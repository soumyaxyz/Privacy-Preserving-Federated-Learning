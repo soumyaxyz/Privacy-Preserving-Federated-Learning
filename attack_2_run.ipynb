{
 "cells": [
  {
   "cell_type": "code",
   "execution_count": 2,
   "id": "9c213bfc-9ea4-4f0a-a1da-6ff421983c65",
   "metadata": {},
   "outputs": [
    {
     "name": "stdout",
     "output_type": "stream",
     "text": [
      "2024-05-20 16:16:59.887087: I tensorflow/core/platform/cpu_feature_guard.cc:193] This TensorFlow binary is optimized with oneAPI Deep Neural Network Library (oneDNN) to use the following CPU instructions in performance-critical operations:  SSE4.1 SSE4.2 AVX AVX2 AVX512F FMA\n",
      "To enable them in other operations, rebuild TensorFlow with the appropriate compiler flags.\n",
      "Intel(R) Extension for Scikit-learn* enabled (https://github.com/intel/scikit-learn-intelex)\n",
      "/opt/conda/lib/python3.7/site-packages/sklearn/_distributor_init.py:25: FutureWarning: \n",
      "USE_DAAL4PY_SKLEARN variable is deprecated for Intel(R) Extension for Scikit-learn\n",
      "and will be delete in the 2022.1 release.\n",
      "Please, use new construction of global patching:\n",
      "python sklearnex.glob patch_sklearn\n",
      "Read more: https://intel.github.io/scikit-learn-intelex/global_patching.html\n",
      "  FutureWarning)\n",
      "/opt/conda/lib/python3.7/site-packages/torchvision/io/image.py:13: UserWarning: Failed to load image Python extension: /opt/conda/lib/python3.7/site-packages/torchvision/image.so: undefined symbol: _ZN2at4_ops19empty_memory_format4callEN3c108ArrayRefIlEENS2_8optionalINS2_10ScalarTypeEEENS5_INS2_6LayoutEEENS5_INS2_6DeviceEEENS5_IbEENS5_INS2_12MemoryFormatEEE\n",
      "  warn(f\"Failed to load image Python extension: {e}\")\n",
      "\n",
      "Evaluating efficientnet with incremental_SVHN-0 in cpu using PyTorch 1.13.1+cu117 and Flower 1.4.0\n",
      "Loading custom incremental dataset...\n",
      "Using cache found in /home/akapo004/.cache/torch/hub/NVIDIA_DeepLearningExamples_torchhub\n",
      "/home/akapo004/.cache/torch/hub/NVIDIA_DeepLearningExamples_torchhub/PyTorch/Classification/ConvNets/image_classification/models/common.py:14: UserWarning: pytorch_quantization module not found, quantization will not be available\n",
      "  \"pytorch_quantization module not found, quantization will not be available\"\n",
      "/home/akapo004/.cache/torch/hub/NVIDIA_DeepLearningExamples_torchhub/PyTorch/Classification/ConvNets/image_classification/models/efficientnet.py:18: UserWarning: pytorch_quantization module not found, quantization will not be available\n",
      "  \"pytorch_quantization module not found, quantization will not be available\"\n",
      "Traceback (most recent call last):\n",
      "  File \"/home/akapo004/preserve_false/Privacy-Preserving-Federated-Learning/utils/training_utils.py\", line 98, in load_model\n",
      "    checkpoint = torch.load(path)\n",
      "  File \"/home/akapo004/envs/ppfl/lib/python3.7/site-packages/torch/serialization.py\", line 789, in load\n",
      "    return _load(opened_zipfile, map_location, pickle_module, **pickle_load_args)\n",
      "  File \"/home/akapo004/envs/ppfl/lib/python3.7/site-packages/torch/serialization.py\", line 1131, in _load\n",
      "    result = unpickler.load()\n",
      "  File \"/home/akapo004/envs/ppfl/lib/python3.7/site-packages/torch/serialization.py\", line 1101, in persistent_load\n",
      "    load_tensor(dtype, nbytes, key, _maybe_decode_ascii(location))\n",
      "  File \"/home/akapo004/envs/ppfl/lib/python3.7/site-packages/torch/serialization.py\", line 1083, in load_tensor\n",
      "    wrap_storage=restore_location(storage, location),\n",
      "  File \"/home/akapo004/envs/ppfl/lib/python3.7/site-packages/torch/serialization.py\", line 215, in default_restore_location\n",
      "    result = fn(storage, location)\n",
      "  File \"/home/akapo004/envs/ppfl/lib/python3.7/site-packages/torch/serialization.py\", line 182, in _cuda_deserialize\n",
      "    device = validate_cuda_device(location)\n",
      "  File \"/home/akapo004/envs/ppfl/lib/python3.7/site-packages/torch/serialization.py\", line 166, in validate_cuda_device\n",
      "    raise RuntimeError('Attempting to deserialize object on a CUDA '\n",
      "RuntimeError: Attempting to deserialize object on a CUDA device but torch.cuda.is_available() is False. If you are running on a CPU-only machine, please use torch.load with map_location=torch.device('cpu') to map your storages to the CPU.\n",
      "--Return--\n",
      "> /home/akapo004/preserve_false/Privacy-Preserving-Federated-Learning/utils/training_utils.py(106)load_model()->None\n",
      "-> pdb.set_trace()\n",
      "\u001b[?2004h(Pdb) \n",
      "--KeyboardInterrupt--\n",
      "\u001b[?2004h(Pdb) "
     ]
    }
   ],
   "source": [
    "!python continuous.py -m efficientnet -d incremental_SVHN-0 -em CentralizedefficientnetincrementalSVHN0"
   ]
  },
  {
   "cell_type": "code",
   "execution_count": null,
   "id": "0b02a27f-a161-4fa8-a9ed-49b8889aea3d",
   "metadata": {},
   "outputs": [],
   "source": []
  }
 ],
 "metadata": {
  "kernelspec": {
   "display_name": "Python 3 (ipykernel)",
   "language": "python",
   "name": "python3"
  },
  "language_info": {
   "codemirror_mode": {
    "name": "ipython",
    "version": 3
   },
   "file_extension": ".py",
   "mimetype": "text/x-python",
   "name": "python",
   "nbconvert_exporter": "python",
   "pygments_lexer": "ipython3",
   "version": "3.7.13"
  }
 },
 "nbformat": 4,
 "nbformat_minor": 5
}
